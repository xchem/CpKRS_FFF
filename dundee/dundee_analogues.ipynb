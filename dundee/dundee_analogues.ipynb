{
 "cells": [
  {
   "cell_type": "markdown",
   "id": "9d31e9b1-2932-40cf-b5e6-e96341a1e7ae",
   "metadata": {},
   "source": [
    "# Dundee Analogues"
   ]
  },
  {
   "cell_type": "code",
   "execution_count": 1,
   "id": "52713fe7-ac61-4789-8f24-66ab299ed39e",
   "metadata": {},
   "outputs": [],
   "source": [
    "import mrich\n",
    "import hippo\n",
    "from os import environ"
   ]
  },
  {
   "cell_type": "code",
   "execution_count": 2,
   "id": "f02f3dc8-c660-4de8-8bfb-9b9414d2b9b2",
   "metadata": {},
   "outputs": [
    {
     "data": {
      "text/html": [
       "<pre style=\"white-space:pre;overflow-x:auto;line-height:normal;font-family:Menlo,'DejaVu Sans Mono',consolas,'Courier New',monospace;margin:0px\"><span style=\"font-weight: bold\"> Creating HIPPO animal</span>\n",
       "</pre>\n"
      ],
      "text/plain": [
       "\u001b[1m Creating HIPPO animal\u001b[0m\n"
      ]
     },
     "metadata": {},
     "output_type": "display_data"
    },
    {
     "data": {
      "text/html": [
       "<pre style=\"white-space:pre;overflow-x:auto;line-height:normal;font-family:Menlo,'DejaVu Sans Mono',consolas,'Courier New',monospace;margin:0px\"><span style=\"color: #008080; text-decoration-color: #008080; font-weight: bold\">name</span> = <span style=\"color: #00d7af; text-decoration-color: #00d7af\">KRS</span>\n",
       "</pre>\n"
      ],
      "text/plain": [
       "\u001b[1;36mname\u001b[0m = \u001b[38;5;43mKRS\u001b[0m\n"
      ]
     },
     "metadata": {},
     "output_type": "display_data"
    },
    {
     "data": {
      "text/html": [
       "<pre style=\"white-space:pre;overflow-x:auto;line-height:normal;font-family:Menlo,'DejaVu Sans Mono',consolas,'Courier New',monospace;margin:0px\"><span style=\"color: #008080; text-decoration-color: #008080; font-weight: bold\">db_path</span> = <span style=\"color: #d7af00; text-decoration-color: #d7af00\">/opt/xchem-fragalysis-2/maxwin/BulkDock/TARGETS/CpKRS/CpKRS.sqlite</span>\n",
       "</pre>\n"
      ],
      "text/plain": [
       "\u001b[1;36mdb_path\u001b[0m = \u001b[38;5;178m/opt/xchem-fragalysis-2/maxwin/BulkDock/TARGETS/CpKRS/CpKRS.sqlite\u001b[0m\n"
      ]
     },
     "metadata": {},
     "output_type": "display_data"
    },
    {
     "data": {
      "text/html": [
       "<pre style=\"white-space:pre;overflow-x:auto;line-height:normal;font-family:Menlo,'DejaVu Sans Mono',consolas,'Courier New',monospace;margin:0px\"><span style=\"color: #808080; text-decoration-color: #808080\">DEBUG: hippo.Database.__init__()</span>\n",
       "</pre>\n"
      ],
      "text/plain": [
       "\u001b[90mDEBUG: hippo.Database.__init__()\u001b[0m\n"
      ]
     },
     "metadata": {},
     "output_type": "display_data"
    },
    {
     "data": {
      "text/html": [
       "<pre style=\"white-space:pre;overflow-x:auto;line-height:normal;font-family:Menlo,'DejaVu Sans Mono',consolas,'Courier New',monospace;margin:0px\"><span style=\"color: #808080; text-decoration-color: #808080\">DEBUG: Database.path = /opt/xchem-fragalysis-2/maxwin/BulkDock/TARGETS/CpKRS/CpKRS.sqlite</span>\n",
       "</pre>\n"
      ],
      "text/plain": [
       "\u001b[90mDEBUG: Database.path = /opt/xchem-fragalysis-2/maxwin/BulkDock/TARGETS/CpKRS/CpKRS.sqlite\u001b[0m\n"
      ]
     },
     "metadata": {},
     "output_type": "display_data"
    },
    {
     "data": {
      "text/html": [
       "<pre style=\"white-space:pre;overflow-x:auto;line-height:normal;font-family:Menlo,'DejaVu Sans Mono',consolas,'Courier New',monospace;margin:0px\"><span style=\"color: #808080; text-decoration-color: #808080\">DEBUG: hippo.Database.connect()</span>\n",
       "</pre>\n"
      ],
      "text/plain": [
       "\u001b[90mDEBUG: hippo.Database.connect()\u001b[0m\n"
      ]
     },
     "metadata": {},
     "output_type": "display_data"
    },
    {
     "data": {
      "text/html": [
       "<pre style=\"white-space:pre;overflow-x:auto;line-height:normal;font-family:Menlo,'DejaVu Sans Mono',consolas,'Courier New',monospace;margin:0px\"><span style=\"color: #808080; text-decoration-color: #808080\">DEBUG: sqlite3.version='2.6.0'</span>\n",
       "</pre>\n"
      ],
      "text/plain": [
       "\u001b[90mDEBUG: sqlite3.version='2.6.0'\u001b[0m\n"
      ]
     },
     "metadata": {},
     "output_type": "display_data"
    },
    {
     "data": {
      "text/html": [
       "<pre style=\"white-space:pre;overflow-x:auto;line-height:normal;font-family:Menlo,'DejaVu Sans Mono',consolas,'Courier New',monospace;margin:0px\"><span style=\"background-color: #008000; font-weight: bold\"> Success </span><span style=\"color: #008000; text-decoration-color: #008000; font-weight: bold\"> Database connected @</span><span style=\"color: #d7af00; text-decoration-color: #d7af00; font-weight: bold\"> /opt/xchem-fragalysis-2/maxwin/BulkDock/TARGETS/CpKRS/CpKRS.sqlite!</span>\n",
       "</pre>\n"
      ],
      "text/plain": [
       "\u001b[1;7;32m Success \u001b[0m\u001b[1;32m Database connected @\u001b[0m\u001b[1;38;5;178m /opt/xchem-fragalysis-2/maxwin/BulkDock/TARGETS/CpKRS/CpKRS.sqlite!\u001b[0m\n"
      ]
     },
     "metadata": {},
     "output_type": "display_data"
    },
    {
     "data": {
      "text/html": [
       "<pre style=\"white-space:pre;overflow-x:auto;line-height:normal;font-family:Menlo,'DejaVu Sans Mono',consolas,'Courier New',monospace;margin:0px\"><span style=\"background-color: #008000; font-weight: bold\"> Success </span><span style=\"color: #008000; text-decoration-color: #008000; font-weight: bold\"> Initialised animal</span><span style=\"color: #008080; text-decoration-color: #008080; font-weight: bold\"> HIPPO(\"KRS\")!</span>\n",
       "</pre>\n"
      ],
      "text/plain": [
       "\u001b[1;7;32m Success \u001b[0m\u001b[1;32m Initialised animal\u001b[0m\u001b[1;36m HIPPO(\"KRS\")!\u001b[0m\n"
      ]
     },
     "metadata": {},
     "output_type": "display_data"
    }
   ],
   "source": [
    "animal = hippo.HIPPO(\"KRS\", f'{environ[\"BULK\"]}/TARGETS/CpKRS/CpKRS.sqlite')"
   ]
  },
  {
   "cell_type": "code",
   "execution_count": 2,
   "id": "8257c135-130d-4baf-ac4f-8464a82da0e1",
   "metadata": {},
   "outputs": [
    {
     "name": "stdout",
     "output_type": "stream",
     "text": [
      "Archive:  1st_iteration.zip\n",
      "   creating: 1st_First_iteration/\n",
      "  inflating: 1st_First_iteration/1st_iteration_set_100K.txt  \n",
      "  inflating: 1st_First_iteration/analogues_2ndMGT_scafhop_heatmap_FrAncestor.png  \n",
      "  inflating: 1st_First_iteration/analogues_3rdMGT_fraghop_heatmap_FrAncestor.png  \n",
      "  inflating: 1st_First_iteration/analogues_1stMGT_rgp_heatmap_FrAncestor.png  \n",
      "  inflating: 1st_First_iteration/analogues_allvsall_heatmap_FrAncestor.png  \n"
     ]
    }
   ],
   "source": [
    "!unzip 1st_iteration.zip"
   ]
  },
  {
   "cell_type": "code",
   "execution_count": 15,
   "id": "0dd8fbc1-11e5-440c-93e5-8f4cc50a7190",
   "metadata": {},
   "outputs": [],
   "source": [
    "data = []\n",
    "with open(\"1st_First_iteration/1st_iteration_set_100K.txt\") as fin:\n",
    "    with open(\"CpKRS_FrAncestor_bulkdock_iter1.csv\", \"wt\") as fout:\n",
    "\n",
    "        fout.write(\"smiles,inspiration\")\n",
    "        \n",
    "        for line in fin:\n",
    "            if line.startswith(\"Q\"):\n",
    "                continue\n",
    "            \n",
    "            values = line.strip().split(\"\\t\")\n",
    "            crystal = values[1]\n",
    "            matches = [x for x in poses if x.startswith(crystal)]\n",
    "\n",
    "            for inspiration in matches:\n",
    "                fout.write(f\"{values[2]},{inspiration}\\n\")"
   ]
  },
  {
   "cell_type": "code",
   "execution_count": 16,
   "id": "19f7cc76-2eb2-4aea-96f2-285c060a436a",
   "metadata": {},
   "outputs": [],
   "source": [
    "data = []\n",
    "with open(\"2nd_iteration/2nd_iteration_set_35K.txt\") as fin:\n",
    "    with open(\"CpKRS_FrAncestor_bulkdock_iter2.csv\", \"wt\") as fout:\n",
    "\n",
    "        fout.write(\"smiles,inspiration\")\n",
    "        \n",
    "        for line in fin:\n",
    "            if line.startswith(\"Q\"):\n",
    "                continue\n",
    "            \n",
    "            values = line.strip().split(\"\\t\")\n",
    "            crystal = values[1]\n",
    "            matches = [x for x in poses if x.startswith(crystal)]\n",
    "\n",
    "            for inspiration in matches:\n",
    "                fout.write(f\"{values[2]},{inspiration}\\n\")"
   ]
  },
  {
   "cell_type": "code",
   "execution_count": 17,
   "id": "5de49e88-33fa-4c2f-bedf-12fe174db22a",
   "metadata": {
    "scrolled": true
   },
   "outputs": [
    {
     "name": "stdout",
     "output_type": "stream",
     "text": [
      "'CpKRS_FrAncestor_bulkdock_iter1.csv' -> '/opt/xchem-fragalysis-2/maxwin/BulkDock/INPUTS/CpKRS_FrAncestor_bulkdock_iter1.csv'\n",
      "'CpKRS_FrAncestor_bulkdock_iter2.csv' -> '/opt/xchem-fragalysis-2/maxwin/BulkDock/INPUTS/CpKRS_FrAncestor_bulkdock_iter2.csv'\n"
     ]
    }
   ],
   "source": [
    "!cp -v *.csv $BULK/INPUTS"
   ]
  },
  {
   "cell_type": "code",
   "execution_count": 18,
   "id": "dfaf56d4-5e4b-4cd9-8c6a-a1b2030fc310",
   "metadata": {},
   "outputs": [
    {
     "name": "stdout",
     "output_type": "stream",
     "text": [
      "88438 CpKRS_FrAncestor_bulkdock_iter2.csv\n"
     ]
    }
   ],
   "source": [
    "!wc -l CpKRS_FrAncestor_bulkdock_iter2.csv"
   ]
  },
  {
   "cell_type": "code",
   "execution_count": 19,
   "id": "8c4f1433-2f79-41b7-a534-b63bbcf60580",
   "metadata": {},
   "outputs": [
    {
     "name": "stdout",
     "output_type": "stream",
     "text": [
      "2573866 CpKRS_FrAncestor_bulkdock_iter1.csv\n"
     ]
    }
   ],
   "source": [
    "!wc -l CpKRS_FrAncestor_bulkdock_iter1.csv"
   ]
  },
  {
   "cell_type": "code",
   "execution_count": 3,
   "id": "1f1fdbb6-eec5-4072-9e90-759d43bd67ac",
   "metadata": {},
   "outputs": [],
   "source": [
    "poses = animal.db.get_pose_alias_id_dict()"
   ]
  },
  {
   "cell_type": "code",
   "execution_count": 9,
   "id": "e9be9d79-5dff-4879-bdf0-45eb36eb28d5",
   "metadata": {},
   "outputs": [
    {
     "data": {
      "application/3dmoljs_load.v0": "<div id=\"3dmolviewer_17563003158941672\"  style=\"position: relative; width: 400px; height: 400px;\">\n        <p id=\"3dmolwarning_17563003158941672\" style=\"background-color:#ffcccc;color:black\">3Dmol.js failed to load for some reason.  Please check your browser console for error messages.<br></p>\n        </div>\n<script>\n\nvar loadScriptAsync = function(uri){\n  return new Promise((resolve, reject) => {\n    //this is to ignore the existence of requirejs amd\n    var savedexports, savedmodule;\n    if (typeof exports !== 'undefined') savedexports = exports;\n    else exports = {}\n    if (typeof module !== 'undefined') savedmodule = module;\n    else module = {}\n\n    var tag = document.createElement('script');\n    tag.src = uri;\n    tag.async = true;\n    tag.onload = () => {\n        exports = savedexports;\n        module = savedmodule;\n        resolve();\n    };\n  var firstScriptTag = document.getElementsByTagName('script')[0];\n  firstScriptTag.parentNode.insertBefore(tag, firstScriptTag);\n});\n};\n\nif(typeof $3Dmolpromise === 'undefined') {\n$3Dmolpromise = null;\n  $3Dmolpromise = loadScriptAsync('https://cdnjs.cloudflare.com/ajax/libs/3Dmol/2.4.2/3Dmol-min.js');\n}\n\nvar viewer_17563003158941672 = null;\nvar warn = document.getElementById(\"3dmolwarning_17563003158941672\");\nif(warn) {\n    warn.parentNode.removeChild(warn);\n}\n$3Dmolpromise.then(function() {\nviewer_17563003158941672 = $3Dmol.createViewer(document.getElementById(\"3dmolviewer_17563003158941672\"),{backgroundColor:\"white\"});\nviewer_17563003158941672.zoomTo();\n\tviewer_17563003158941672.removeAllModels();\n\tviewer_17563003158941672.addModel(\"\\n     RDKit          3D\\n\\n 10 10  0  0  0  0  0  0  0  0999 V2000\\n    6.1360   -7.9150   23.6810 C   0  0  0  0  0  0  0  0  0  0  0  0\\n    5.3290   -9.1460   24.0750 C   0  0  1  0  0  0  0  0  0  0  0  0\\n    5.7610   -9.6570   25.4590 C   0  0  0  0  0  0  0  0  0  0  0  0\\n    3.8110  -10.2530   26.8010 C   0  0  0  0  0  0  0  0  0  0  0  0\\n    3.0010  -11.4100   27.3290 C   0  0  0  0  0  0  0  0  0  0  0  0\\n    3.8750  -12.9070   25.7630 C   0  0  0  0  0  0  0  0  0  0  0  0\\n    4.5110  -11.7340   25.0610 C   0  0  0  0  0  0  0  0  0  0  0  0\\n    3.8840   -8.8440   23.9790 N   0  0  0  0  0  0  0  0  0  0  0  0\\n    4.9660  -10.7470   26.0430 N   0  0  0  0  0  0  0  0  0  0  0  0\\n    3.6660  -12.6520   27.1450 O   0  0  0  0  0  0  0  0  0  0  0  0\\n  2  1  1  1\\n  3  2  1  0\\n  5  4  1  0\\n  7  6  1  0\\n  8  2  1  0\\n  9  7  1  0\\n  9  4  1  0\\n  9  3  1  0\\n 10  6  1  0\\n 10  5  1  0\\nM  END\\n\",\"sdf\");\n\tviewer_17563003158941672.setStyle({\"stick\": {}});\n\tviewer_17563003158941672.addModel(\"\\n     RDKit          3D\\n\\n 10 10  0  0  0  0  0  0  0  0999 V2000\\n    4.0790   -8.7330   23.7800 C   0  0  0  0  0  0  0  0  0  0  0  0\\n    5.2810   -8.5790   24.7030 C   0  0  1  0  0  0  0  0  0  0  0  0\\n    5.7570   -9.9380   25.2240 C   0  0  0  0  0  0  0  0  0  0  0  0\\n    4.9810  -12.2060   25.5450 C   0  0  0  0  0  0  0  0  0  0  0  0\\n    3.8030  -13.0450   25.9660 C   0  0  0  0  0  0  0  0  0  0  0  0\\n    3.0980  -11.3690   27.4330 C   0  0  0  0  0  0  0  0  0  0  0  0\\n    4.2670  -10.5050   27.0420 C   0  0  0  0  0  0  0  0  0  0  0  0\\n    6.3850   -7.8580   24.0240 N   0  0  0  0  0  0  0  0  0  0  0  0\\n    4.6450  -10.7870   25.6570 N   0  0  0  0  0  0  0  0  0  0  0  0\\n    3.3970  -12.7510   27.2980 O   0  0  0  0  0  0  0  0  0  0  0  0\\n  2  1  1  6\\n  3  2  1  0\\n  5  4  1  0\\n  7  6  1  0\\n  8  2  1  0\\n  9  4  1  0\\n  9  7  1  0\\n  9  3  1  0\\n 10  5  1  0\\n 10  6  1  0\\nM  END\\n\",\"sdf\");\n\tviewer_17563003158941672.setStyle({\"stick\": {}});\n\tviewer_17563003158941672.setStyle({\"model\": 0},{\"stick\": {\"colorscheme\": \"cyanCarbon\"}});\n\tviewer_17563003158941672.setStyle({\"model\": 1},{\"stick\": {\"colorscheme\": \"redCarbon\"}});\n\tviewer_17563003158941672.zoomTo();\nviewer_17563003158941672.render();\n});\n</script>",
      "text/html": [
       "<div id=\"3dmolviewer_17563003158941672\"  style=\"position: relative; width: 400px; height: 400px;\">\n",
       "        <p id=\"3dmolwarning_17563003158941672\" style=\"background-color:#ffcccc;color:black\">3Dmol.js failed to load for some reason.  Please check your browser console for error messages.<br></p>\n",
       "        </div>\n",
       "<script>\n",
       "\n",
       "var loadScriptAsync = function(uri){\n",
       "  return new Promise((resolve, reject) => {\n",
       "    //this is to ignore the existence of requirejs amd\n",
       "    var savedexports, savedmodule;\n",
       "    if (typeof exports !== 'undefined') savedexports = exports;\n",
       "    else exports = {}\n",
       "    if (typeof module !== 'undefined') savedmodule = module;\n",
       "    else module = {}\n",
       "\n",
       "    var tag = document.createElement('script');\n",
       "    tag.src = uri;\n",
       "    tag.async = true;\n",
       "    tag.onload = () => {\n",
       "        exports = savedexports;\n",
       "        module = savedmodule;\n",
       "        resolve();\n",
       "    };\n",
       "  var firstScriptTag = document.getElementsByTagName('script')[0];\n",
       "  firstScriptTag.parentNode.insertBefore(tag, firstScriptTag);\n",
       "});\n",
       "};\n",
       "\n",
       "if(typeof $3Dmolpromise === 'undefined') {\n",
       "$3Dmolpromise = null;\n",
       "  $3Dmolpromise = loadScriptAsync('https://cdnjs.cloudflare.com/ajax/libs/3Dmol/2.4.2/3Dmol-min.js');\n",
       "}\n",
       "\n",
       "var viewer_17563003158941672 = null;\n",
       "var warn = document.getElementById(\"3dmolwarning_17563003158941672\");\n",
       "if(warn) {\n",
       "    warn.parentNode.removeChild(warn);\n",
       "}\n",
       "$3Dmolpromise.then(function() {\n",
       "viewer_17563003158941672 = $3Dmol.createViewer(document.getElementById(\"3dmolviewer_17563003158941672\"),{backgroundColor:\"white\"});\n",
       "viewer_17563003158941672.zoomTo();\n",
       "\tviewer_17563003158941672.removeAllModels();\n",
       "\tviewer_17563003158941672.addModel(\"\\n     RDKit          3D\\n\\n 10 10  0  0  0  0  0  0  0  0999 V2000\\n    6.1360   -7.9150   23.6810 C   0  0  0  0  0  0  0  0  0  0  0  0\\n    5.3290   -9.1460   24.0750 C   0  0  1  0  0  0  0  0  0  0  0  0\\n    5.7610   -9.6570   25.4590 C   0  0  0  0  0  0  0  0  0  0  0  0\\n    3.8110  -10.2530   26.8010 C   0  0  0  0  0  0  0  0  0  0  0  0\\n    3.0010  -11.4100   27.3290 C   0  0  0  0  0  0  0  0  0  0  0  0\\n    3.8750  -12.9070   25.7630 C   0  0  0  0  0  0  0  0  0  0  0  0\\n    4.5110  -11.7340   25.0610 C   0  0  0  0  0  0  0  0  0  0  0  0\\n    3.8840   -8.8440   23.9790 N   0  0  0  0  0  0  0  0  0  0  0  0\\n    4.9660  -10.7470   26.0430 N   0  0  0  0  0  0  0  0  0  0  0  0\\n    3.6660  -12.6520   27.1450 O   0  0  0  0  0  0  0  0  0  0  0  0\\n  2  1  1  1\\n  3  2  1  0\\n  5  4  1  0\\n  7  6  1  0\\n  8  2  1  0\\n  9  7  1  0\\n  9  4  1  0\\n  9  3  1  0\\n 10  6  1  0\\n 10  5  1  0\\nM  END\\n\",\"sdf\");\n",
       "\tviewer_17563003158941672.setStyle({\"stick\": {}});\n",
       "\tviewer_17563003158941672.addModel(\"\\n     RDKit          3D\\n\\n 10 10  0  0  0  0  0  0  0  0999 V2000\\n    4.0790   -8.7330   23.7800 C   0  0  0  0  0  0  0  0  0  0  0  0\\n    5.2810   -8.5790   24.7030 C   0  0  1  0  0  0  0  0  0  0  0  0\\n    5.7570   -9.9380   25.2240 C   0  0  0  0  0  0  0  0  0  0  0  0\\n    4.9810  -12.2060   25.5450 C   0  0  0  0  0  0  0  0  0  0  0  0\\n    3.8030  -13.0450   25.9660 C   0  0  0  0  0  0  0  0  0  0  0  0\\n    3.0980  -11.3690   27.4330 C   0  0  0  0  0  0  0  0  0  0  0  0\\n    4.2670  -10.5050   27.0420 C   0  0  0  0  0  0  0  0  0  0  0  0\\n    6.3850   -7.8580   24.0240 N   0  0  0  0  0  0  0  0  0  0  0  0\\n    4.6450  -10.7870   25.6570 N   0  0  0  0  0  0  0  0  0  0  0  0\\n    3.3970  -12.7510   27.2980 O   0  0  0  0  0  0  0  0  0  0  0  0\\n  2  1  1  6\\n  3  2  1  0\\n  5  4  1  0\\n  7  6  1  0\\n  8  2  1  0\\n  9  4  1  0\\n  9  7  1  0\\n  9  3  1  0\\n 10  5  1  0\\n 10  6  1  0\\nM  END\\n\",\"sdf\");\n",
       "\tviewer_17563003158941672.setStyle({\"stick\": {}});\n",
       "\tviewer_17563003158941672.setStyle({\"model\": 0},{\"stick\": {\"colorscheme\": \"cyanCarbon\"}});\n",
       "\tviewer_17563003158941672.setStyle({\"model\": 1},{\"stick\": {\"colorscheme\": \"redCarbon\"}});\n",
       "\tviewer_17563003158941672.zoomTo();\n",
       "viewer_17563003158941672.render();\n",
       "});\n",
       "</script>"
      ]
     },
     "metadata": {},
     "output_type": "display_data"
    }
   ],
   "source": [
    "animal.poses[\"x0414a\", \"x0414b\"].draw()"
   ]
  },
  {
   "cell_type": "code",
   "execution_count": null,
   "id": "db5bce34-47dc-4e50-901e-66655d8da61a",
   "metadata": {},
   "outputs": [],
   "source": [
    "#sbatch --job-name BulkDock.submit:CpKRS:iter2 --output=/opt/xchem-fragalysis-2/maxwin/logs/%j.log --error=/opt/xchem-fragalysis-2/maxwin/logs/%j.log /opt/xchem-fragalysis-2/maxwin/slurm/run_python.sh -m bulkdock place CpKRS INPUTS/CpKRS_FrAncestor_bulkdock_iter2.csv --split 5000 --stagger 20 \n",
    "#sbatch --job-name BulkDock.submit:CpKRS:iter1 --output=/opt/xchem-fragalysis-2/maxwin/logs/%j.log --error=/opt/xchem-fragalysis-2/maxwin/logs/%j.log --dependency=afterok:513071 /opt/xchem-fragalysis-2/maxwin/slurm/run_python.sh -m bulkdock place CpKRS INPUTS/CpKRS_FrAncestor_bulkdock_iter1.csv --split 50000 --stagger 120 "
   ]
  }
 ],
 "metadata": {
  "kernelspec": {
   "display_name": "Python 3 (ipykernel)",
   "language": "python",
   "name": "python3"
  },
  "language_info": {
   "codemirror_mode": {
    "name": "ipython",
    "version": 3
   },
   "file_extension": ".py",
   "mimetype": "text/x-python",
   "name": "python",
   "nbconvert_exporter": "python",
   "pygments_lexer": "ipython3",
   "version": "3.12.8"
  }
 },
 "nbformat": 4,
 "nbformat_minor": 5
}
